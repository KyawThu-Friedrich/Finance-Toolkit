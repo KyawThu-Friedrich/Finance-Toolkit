{
 "cells": [
  {
   "cell_type": "code",
   "execution_count": 10,
   "id": "ff0c02f5",
   "metadata": {},
   "outputs": [],
   "source": [
    "#pip install numpy-financial\n",
    "# https://numpy.org/numpy-financial/latest/"
   ]
  },
  {
   "cell_type": "code",
   "execution_count": 1,
   "id": "a1fb8a58",
   "metadata": {},
   "outputs": [],
   "source": [
    "import numpy as np\n",
    "import numpy_financial as npf"
   ]
  },
  {
   "cell_type": "code",
   "execution_count": 4,
   "id": "429f9d7d",
   "metadata": {},
   "outputs": [
    {
     "data": {
      "text/plain": [
       "114.39577546409993"
      ]
     },
     "execution_count": 4,
     "metadata": {},
     "output_type": "execute_result"
    }
   ],
   "source": [
    "# PV OF ANNUITY\n",
    "C=4000\n",
    "r=0.019/12\n",
    "n=3*12\n",
    "pva=C*r/(1-1/(1+r)**n)\n",
    "pva"
   ]
  },
  {
   "cell_type": "code",
   "execution_count": 2,
   "id": "154b06ec",
   "metadata": {},
   "outputs": [
    {
     "data": {
      "text/plain": [
       "300.0520939510602"
      ]
     },
     "execution_count": 2,
     "metadata": {},
     "output_type": "execute_result"
    }
   ],
   "source": [
    "# npv of investment\n",
    "values=[-400,36,36,36,36,36,36,36,36,36,36,36,40,0,0,0,0,1067]\n",
    "npf.npv(0.06,values)"
   ]
  },
  {
   "cell_type": "code",
   "execution_count": 12,
   "id": "68099582",
   "metadata": {},
   "outputs": [
    {
     "data": {
      "text/plain": [
       "1259.7120000000002"
      ]
     },
     "execution_count": 12,
     "metadata": {},
     "output_type": "execute_result"
    }
   ],
   "source": [
    "# fv of proj 43\n",
    "# fv(rate, nper, pmt, pv\n",
    "npf.fv(rate=0.08,nper=3,pmt=0,pv=-1000)"
   ]
  },
  {
   "cell_type": "code",
   "execution_count": 2,
   "id": "63b1fa5b",
   "metadata": {},
   "outputs": [
    {
     "data": {
      "text/plain": [
       "1286.921448694109"
      ]
     },
     "execution_count": 2,
     "metadata": {},
     "output_type": "execute_result"
    }
   ],
   "source": [
    "# Bago Property\n",
    "# bought 2012 \n",
    "# cost 700 lakhs\n",
    "# r= 7%\n",
    "npf.fv(rate=0.07,nper=9,pmt=0,pv=-700)"
   ]
  },
  {
   "cell_type": "code",
   "execution_count": 3,
   "id": "bf60daf3",
   "metadata": {},
   "outputs": [
    {
     "data": {
      "text/plain": [
       "0.09294536436161871"
      ]
     },
     "execution_count": 3,
     "metadata": {},
     "output_type": "execute_result"
    }
   ],
   "source": [
    "npf.irr([-1800, 0, 0,2350])"
   ]
  },
  {
   "cell_type": "code",
   "execution_count": 14,
   "id": "447be2c5",
   "metadata": {},
   "outputs": [
    {
     "data": {
      "text/plain": [
       "-297.2958465899167"
      ]
     },
     "execution_count": 14,
     "metadata": {},
     "output_type": "execute_result"
    }
   ],
   "source": [
    "# pv\n",
    "npf.pv(rate=0.08,nper=17,pmt=0,fv=1100)"
   ]
  },
  {
   "cell_type": "code",
   "execution_count": 5,
   "id": "053b9cf3",
   "metadata": {},
   "outputs": [
    {
     "data": {
      "text/plain": [
       "121.55722687966407"
      ]
     },
     "execution_count": 5,
     "metadata": {},
     "output_type": "execute_result"
    }
   ],
   "source": [
    "\n",
    "cashflows=[-100,50,60,70,100,20]\n",
    "npf.npv(0.112,cashflows)\n",
    "    "
   ]
  },
  {
   "cell_type": "code",
   "execution_count": 11,
   "id": "424da77f",
   "metadata": {},
   "outputs": [
    {
     "data": {
      "text/plain": [
       "47.63335837716001"
      ]
     },
     "execution_count": 11,
     "metadata": {},
     "output_type": "execute_result"
    }
   ],
   "source": [
    "rate=0.1\n",
    "cashflows=[-100,50,60,70]\n",
    "npf.npv(rate,cashflows)"
   ]
  },
  {
   "cell_type": "code",
   "execution_count": null,
   "id": "d44ca6a4",
   "metadata": {},
   "outputs": [],
   "source": [
    "# https://www.calculatorsoup.com/calculators/financial/future-value-annuity-calculator.php"
   ]
  },
  {
   "cell_type": "code",
   "execution_count": 6,
   "id": "b2dff006",
   "metadata": {},
   "outputs": [
    {
     "data": {
      "text/plain": [
       "0.1499716340330268"
      ]
     },
     "execution_count": 6,
     "metadata": {},
     "output_type": "execute_result"
    }
   ],
   "source": [
    "# PV of Equity Gain %\n",
    "y3=1500 # Land price over 3 years later\n",
    "y0=980 # land initial value\n",
    "values=[-y0,0,0,y3]\n",
    "egpv=npf.npv(0.1,values)\n",
    "egpv/y0"
   ]
  },
  {
   "cell_type": "code",
   "execution_count": 8,
   "id": "4e117f96",
   "metadata": {},
   "outputs": [
    {
     "data": {
      "text/plain": [
       "0.3280817187654148"
      ]
     },
     "execution_count": 8,
     "metadata": {},
     "output_type": "execute_result"
    }
   ],
   "source": [
    "# PV of Equity Gain %\n",
    "y3=3500 # Property price over 3 years later\n",
    "y0=1980 # land initial value + building 2.5 story\n",
    "values=[-y0,0,0,y3]\n",
    "egpv=npf.npv(0.1,values)\n",
    "egpv/y0"
   ]
  },
  {
   "cell_type": "code",
   "execution_count": 24,
   "id": "19c790f2",
   "metadata": {},
   "outputs": [
    {
     "name": "stdout",
     "output_type": "stream",
     "text": [
      "Expected Return of the Property by CAPM model:\n",
      "44.20 %\n"
     ]
    }
   ],
   "source": [
    "Rm=0.328\n",
    "Rf=0.10\n",
    "B=1.5\n",
    "#Rp=Rm-Rf\n",
    "def capm(Rf,Rm,B):\n",
    "    c=Rf+B*(Rm-Rf)\n",
    "    return c\n",
    "print('Expected Return of the Property by CAPM model:')\n",
    "print(\"{:.2f}\".format(capm(Rm=Rm,Rf=Rf,B=B)*100),'%')"
   ]
  },
  {
   "cell_type": "code",
   "execution_count": 10,
   "id": "2d575dac",
   "metadata": {},
   "outputs": [
    {
     "data": {
      "text/plain": [
       "-90.9090909090909"
      ]
     },
     "execution_count": 10,
     "metadata": {},
     "output_type": "execute_result"
    }
   ],
   "source": [
    "npf.pv(0.1,1,0,100)"
   ]
  },
  {
   "cell_type": "code",
   "execution_count": null,
   "id": "1fbe6c1c",
   "metadata": {},
   "outputs": [],
   "source": [
    "# estimate the future value at the end of year two with a 10% annual interest rate"
   ]
  },
  {
   "cell_type": "code",
   "execution_count": 11,
   "id": "4f82d8c8",
   "metadata": {},
   "outputs": [
    {
     "data": {
      "text/plain": [
       "-121.00000000000001"
      ]
     },
     "execution_count": 11,
     "metadata": {},
     "output_type": "execute_result"
    }
   ],
   "source": [
    "npf.fv(rate=.1, nper=2, pmt=0, pv=100, when='end')"
   ]
  },
  {
   "cell_type": "code",
   "execution_count": 18,
   "id": "d6d87b83",
   "metadata": {},
   "outputs": [
    {
     "name": "stdout",
     "output_type": "stream",
     "text": [
      "Present Value of Annuity:\n"
     ]
    },
    {
     "data": {
      "text/plain": [
       "135.1804763255031"
      ]
     },
     "execution_count": 18,
     "metadata": {},
     "output_type": "execute_result"
    }
   ],
   "source": [
    "# PV of annuity due\n",
    "# r    : period rate\n",
    "# n    : number of periods\n",
    "# c    : constant cash flow\n",
    "def pvAnnuityDue(r, n, c):\n",
    "    pa=(c/r)*(1-(1+r)**-n)*(1+r)\n",
    "    return pa\n",
    "print('Present Value of Annuity:')\n",
    "pvAnnuityDue(r=.1,n=10,c=20)\n",
    "    "
   ]
  },
  {
   "cell_type": "code",
   "execution_count": 31,
   "id": "52488ffd",
   "metadata": {},
   "outputs": [
    {
     "name": "stdout",
     "output_type": "stream",
     "text": [
      "Present Value of Annuity Growth:\n"
     ]
    },
    {
     "data": {
      "text/plain": [
       "150463.1470058203"
      ]
     },
     "execution_count": 31,
     "metadata": {},
     "output_type": "execute_result"
    }
   ],
   "source": [
    "# pvGrowingAnnuity\n",
    "#  r    : period discount rate\n",
    "#  n    : number of periods\n",
    "#  c    : period payment\n",
    "#  g    : period growth rate  (g<r)\n",
    "def pvGrowingAnnuity(r, n, c, g ):\n",
    "    cf=((1+g)**n)/(1+r)**n\n",
    "    pag=(c/(r-g))*(1-cf)\n",
    "    return pag\n",
    "print('Present Value of Annuity Growth:')\n",
    "pvGrowingAnnuity(r=.1,n=30,c=10000,g=0.05)"
   ]
  },
  {
   "cell_type": "code",
   "execution_count": 34,
   "id": "9652f52e",
   "metadata": {},
   "outputs": [
    {
     "name": "stdout",
     "output_type": "stream",
     "text": [
      "Future Value of Annuity Growth:\n"
     ]
    },
    {
     "data": {
      "text/plain": [
       "11700.748820000026"
      ]
     },
     "execution_count": 34,
     "metadata": {},
     "output_type": "execute_result"
    }
   ],
   "source": [
    "# Future Value of Annuity Growth\n",
    "#  r    : period discount rate\n",
    "#  n    : number of periods\n",
    "#  c    : period payment\n",
    "#  g    : period growth rate  (g<r)\n",
    "# https://financeformulas.net/Future-Value-of-Growing-Annuity.html\n",
    "# https://www.calculatorsoup.com/calculators/financial/future-value-annuity-calculator.php\n",
    "def fvGrowingAnnuity(r, n, c, g ):\n",
    "    cp=(1+r)**n\n",
    "    gp=(1+g)**n\n",
    "    fag=c*(cp-gp)/(r-g)\n",
    "    return fag\n",
    "print('Future Value of Annuity Growth:')\n",
    "fvGrowingAnnuity(r=.03,n=5,c=2000,g=0.05)"
   ]
  },
  {
   "cell_type": "code",
   "execution_count": null,
   "id": "33848412",
   "metadata": {},
   "outputs": [],
   "source": [
    "# EAR\n",
    "# https://www.calculatorsoup.com/calculators/financial/effective-annual-rate-calculator.php"
   ]
  }
 ],
 "metadata": {
  "kernelspec": {
   "display_name": "Python 3",
   "language": "python",
   "name": "python3"
  },
  "language_info": {
   "codemirror_mode": {
    "name": "ipython",
    "version": 3
   },
   "file_extension": ".py",
   "mimetype": "text/x-python",
   "name": "python",
   "nbconvert_exporter": "python",
   "pygments_lexer": "ipython3",
   "version": "3.8.8"
  }
 },
 "nbformat": 4,
 "nbformat_minor": 5
}
